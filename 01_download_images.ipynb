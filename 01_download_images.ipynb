{
 "cells": [
  {
   "cell_type": "markdown",
   "metadata": {},
   "source": [
    "### Import libraries"
   ]
  },
  {
   "cell_type": "code",
   "execution_count": 3,
   "metadata": {},
   "outputs": [],
   "source": [
    "#!pip install owslib"
   ]
  },
  {
   "cell_type": "code",
   "execution_count": 4,
   "metadata": {},
   "outputs": [],
   "source": [
    "from owslib.wms import WebMapService"
   ]
  },
  {
   "cell_type": "code",
   "execution_count": 32,
   "metadata": {},
   "outputs": [
    {
     "data": {
      "text/plain": [
       "'https://geoservices.buergernetz.bz.it/mapproxy/root/wms'"
      ]
     },
     "execution_count": 32,
     "metadata": {},
     "output_type": "execute_result"
    }
   ],
   "source": [
    "'https://geoservices.buergernetz.bz.it/mapproxy/root/wms'"
   ]
  },
  {
   "cell_type": "markdown",
   "metadata": {},
   "source": [
    "## TExample from 'OWSLib 0.31.dev0 documentation'\n",
    "https://owslib.readthedocs.io/en/latest/usage.html#wms"
   ]
  },
  {
   "cell_type": "markdown",
   "metadata": {},
   "source": [
    "### Find out what a WMS has to offer. Service metadata."
   ]
  },
  {
   "cell_type": "code",
   "execution_count": 35,
   "metadata": {},
   "outputs": [],
   "source": [
    "wms = WebMapService('https://geoservices.buergernetz.bz.it/mapproxy/root/wms', version='1.1.1')"
   ]
  },
  {
   "cell_type": "code",
   "execution_count": 42,
   "metadata": {},
   "outputs": [
    {
     "name": "stdout",
     "output_type": "stream",
     "text": [
      "Type: OGC:WMS\n",
      "Version: 1.1.1\n",
      "Title: MapProxy WMS Proxy\n",
      "Abstract: This is a minimal MapProxy example.\n"
     ]
    }
   ],
   "source": [
    "print(f'Type: {wms.identification.type}')\n",
    "print(f'Version: {wms.identification.version}')\n",
    "print(f'Title: {wms.identification.title}')\n",
    "print(f'Abstract: {wms.identification.abstract}')"
   ]
  },
  {
   "cell_type": "markdown",
   "metadata": {},
   "source": [
    "### Available layers"
   ]
  },
  {
   "cell_type": "code",
   "execution_count": 43,
   "metadata": {},
   "outputs": [
    {
     "data": {
      "text/plain": [
       "['gvcc-Orthoimagery:Aerial-2000-RGB',\n",
       " 'gvcc-Orthoimagery:Aerial-2006-RGB',\n",
       " 'gvcc-Orthoimagery:Aerial-2007-RGB',\n",
       " 'gvcc-Orthoimagery:Aerial-2008-RGB',\n",
       " 'gvcc-Orthoimagery:Aerial-2009-RGB',\n",
       " 'gvcc-Orthoimagery:Aerial-2010-RGB',\n",
       " 'gvcc-Orthoimagery:Aerial-2011-RGB',\n",
       " 'gvcc-Orthoimagery:Aerial-2012-RGB',\n",
       " 'gvcc-Orthoimagery:Aerial-2015-RGB',\n",
       " 'gvcc-Orthoimagery:Aerial-2017-RGB',\n",
       " 'gvcc-Orthoimagery:Aerial-2018-RGB',\n",
       " 'gvcc-Orthoimagery:Aerial-2019-RGB',\n",
       " 'gvcc-Orthoimagery:Aerial-2020-RGB',\n",
       " 'gvcc-Orthoimagery:Aerial-2021-RGB',\n",
       " 'gvcc-Orthoimagery:Aerial-2022-RGB',\n",
       " 'gvcc-Orthoimagery:Aerial-2023-RGB',\n",
       " 'oown-BasemapImagery:TopographicMap-IGM-25k-1986-1959-ForGeologicalMap',\n",
       " 'oown-OpenStreetMap:CartoDarkMatter',\n",
       " 'oown-OpenStreetMap:CartoPositron',\n",
       " 'oown-OpenStreetMap:OpenStreetMap',\n",
       " 'oown-OpenStreetMap:Terrain',\n",
       " 'p_bz-BaseMap:Basemap-Standard-Background',\n",
       " 'p_bz-BaseMap:Basemap-Standard-Labels',\n",
       " 'p_bz-BaseMap:Basemap-Standard',\n",
       " 'p_bz-BaseMap:Basemap-Standard-ForGeocatalog',\n",
       " 'p_bz-BasemapImagery:TopographicMap-1995-05k',\n",
       " 'p_bz-BasemapImagery:TopographicMap-1995-10k',\n",
       " 'p_bz-BasemapImagery:TopographicMap-2007-05k',\n",
       " 'p_bz-BasemapImagery:TopographicMap-2007-10k',\n",
       " 'p_bz-Cadastre-Historical:Cadastre1858-Map',\n",
       " 'p_bz-Elevation:DigitalElevationModel-0.5m-Hillshade',\n",
       " 'p_bz-Elevation:DigitalElevationModel-2.5m-Hillshade',\n",
       " 'p_bz-Elevation:DigitalElevationModel-Glaciers-0.5m-Hillshade',\n",
       " 'p_bz-Elevation:DigitalTerrainModel-0.5m-Hillshade',\n",
       " 'p_bz-Elevation:DigitalTerrainModel-2.5m-Hillshade',\n",
       " 'p_bz-Elevation:DigitalTerrainModel-20m-Hillshade',\n",
       " 'p_bz-Orthoimagery:Aerial-1982-1985-BW',\n",
       " 'p_bz-Orthoimagery:Aerial-1992-1997-BW',\n",
       " 'p_bz-Orthoimagery:Aerial-1999-RGB',\n",
       " 'p_bz-Orthoimagery:Aerial-2003-BW',\n",
       " 'p_bz-Orthoimagery:Aerial-2006-RGB',\n",
       " 'p_bz-Orthoimagery:Aerial-2008-AgEA-RGB',\n",
       " 'p_bz-Orthoimagery:Aerial-2011-AgEA-CIR',\n",
       " 'p_bz-Orthoimagery:Aerial-2011-AgEA-RGB',\n",
       " 'p_bz-Orthoimagery:Aerial-2011-RGB-20CM',\n",
       " 'p_bz-Orthoimagery:Aerial-2014-AgEA-RGB',\n",
       " 'p_bz-Orthoimagery:Aerial-2014-CIR',\n",
       " 'p_bz-Orthoimagery:Aerial-2014-RGB',\n",
       " 'p_bz-Orthoimagery:Aerial-2015-RGB',\n",
       " 'p_bz-Orthoimagery:Aerial-2016-2017-Glaciers-RGB',\n",
       " 'p_bz-Orthoimagery:Aerial-2023-Glaciers-RGB',\n",
       " 'p_bz-Orthoimagery:Aerial-2017-RGB',\n",
       " 'p_bz-Orthoimagery:Aerial-2020-RGB',\n",
       " 'p_bz-Orthoimagery:Aerial-2023-RGB',\n",
       " 'p_bz-Orthoimagery:Aerial-2023-CIR',\n",
       " 'p_bz-TerritorialPlans:UrbanPlan-1978']"
      ]
     },
     "execution_count": 43,
     "metadata": {},
     "output_type": "execute_result"
    }
   ],
   "source": [
    "list(wms.contents)"
   ]
  },
  {
   "cell_type": "markdown",
   "metadata": {},
   "source": [
    "### Details of a layer"
   ]
  },
  {
   "cell_type": "code",
   "execution_count": 44,
   "metadata": {},
   "outputs": [],
   "source": [
    "layer = 'p_bz-Orthoimagery:Aerial-2023-RGB'"
   ]
  },
  {
   "cell_type": "code",
   "execution_count": 45,
   "metadata": {},
   "outputs": [
    {
     "data": {
      "text/plain": [
       "'Orthofoto 2023 - Ortofoto 2023'"
      ]
     },
     "execution_count": 45,
     "metadata": {},
     "output_type": "execute_result"
    }
   ],
   "source": [
    "wms[layer].title"
   ]
  },
  {
   "cell_type": "code",
   "execution_count": 46,
   "metadata": {},
   "outputs": [
    {
     "data": {
      "text/plain": [
       "0"
      ]
     },
     "execution_count": 46,
     "metadata": {},
     "output_type": "execute_result"
    }
   ],
   "source": [
    "wms[layer].queryable"
   ]
  },
  {
   "cell_type": "code",
   "execution_count": 47,
   "metadata": {},
   "outputs": [
    {
     "data": {
      "text/plain": [
       "0"
      ]
     },
     "execution_count": 47,
     "metadata": {},
     "output_type": "execute_result"
    }
   ],
   "source": [
    "wms[layer].opaque"
   ]
  },
  {
   "cell_type": "code",
   "execution_count": 48,
   "metadata": {},
   "outputs": [
    {
     "data": {
      "text/plain": [
       "(924440.3202904793,\n",
       " 5637775.117928037,\n",
       " 1561324.7342913707,\n",
       " 6270030.112218268,\n",
       " 'EPSG:3857')"
      ]
     },
     "execution_count": 48,
     "metadata": {},
     "output_type": "execute_result"
    }
   ],
   "source": [
    "wms[layer].boundingBox"
   ]
  },
  {
   "cell_type": "code",
   "execution_count": 49,
   "metadata": {},
   "outputs": [
    {
     "data": {
      "text/plain": [
       "(8.304388689732834, 45.10315083390036, 14.02561872287789, 48.971518805476826)"
      ]
     },
     "execution_count": 49,
     "metadata": {},
     "output_type": "execute_result"
    }
   ],
   "source": [
    "wms[layer].boundingBoxWGS84"
   ]
  },
  {
   "cell_type": "code",
   "execution_count": 51,
   "metadata": {},
   "outputs": [
    {
     "data": {
      "text/plain": [
       "['CRS:84',\n",
       " 'EPSG:900913',\n",
       " 'EPSG:4258',\n",
       " 'EPSG:3857',\n",
       " 'EPSG:25832',\n",
       " 'EPSG:32632',\n",
       " 'EPSG:31258',\n",
       " 'EPSG:4326']"
      ]
     },
     "execution_count": 51,
     "metadata": {},
     "output_type": "execute_result"
    }
   ],
   "source": [
    "wms[layer].crsOptions"
   ]
  },
  {
   "cell_type": "code",
   "execution_count": 52,
   "metadata": {},
   "outputs": [
    {
     "data": {
      "text/plain": [
       "{}"
      ]
     },
     "execution_count": 52,
     "metadata": {},
     "output_type": "execute_result"
    }
   ],
   "source": [
    "wms[layer].styles"
   ]
  },
  {
   "cell_type": "markdown",
   "metadata": {},
   "source": [
    "### Available methods, their URLs, and available formats"
   ]
  },
  {
   "cell_type": "code",
   "execution_count": 53,
   "metadata": {},
   "outputs": [
    {
     "data": {
      "text/plain": [
       "['GetCapabilities', 'GetMap', 'GetFeatureInfo']"
      ]
     },
     "execution_count": 53,
     "metadata": {},
     "output_type": "execute_result"
    }
   ],
   "source": [
    "[op.name for op in wms.operations]"
   ]
  },
  {
   "cell_type": "code",
   "execution_count": 54,
   "metadata": {},
   "outputs": [
    {
     "data": {
      "text/plain": [
       "[{'type': 'Get',\n",
       "  'url': 'https://geoservices.buergernetz.bz.it/mapproxy/root/wms?'}]"
      ]
     },
     "execution_count": 54,
     "metadata": {},
     "output_type": "execute_result"
    }
   ],
   "source": [
    "wms.getOperationByName('GetMap').methods"
   ]
  },
  {
   "cell_type": "code",
   "execution_count": 55,
   "metadata": {},
   "outputs": [
    {
     "data": {
      "text/plain": [
       "['image/png', 'image/jpeg', 'image/gif', 'image/GeoTIFF', 'image/tiff']"
      ]
     },
     "execution_count": 55,
     "metadata": {},
     "output_type": "execute_result"
    }
   ],
   "source": [
    "wms.getOperationByName('GetMap').formatOptions"
   ]
  },
  {
   "cell_type": "markdown",
   "metadata": {},
   "source": [
    "### That’s everything needed to make a request for imagery"
   ]
  },
  {
   "cell_type": "code",
   "execution_count": 64,
   "metadata": {},
   "outputs": [],
   "source": [
    "img = wms.getmap(layers=[layer],\n",
    "                 styles=['default'],\n",
    "                 srs='EPSG:3857',\n",
    "                 bbox=(1241841, 5879122, 1241941, 5879222),\n",
    "                 size=(500, 500),\n",
    "                 format='image/jpeg',\n",
    "                 transparent=True\n",
    "                 )\n",
    "\n",
    "out = open('OF.jpg', 'wb')\n",
    "out.write(img.read())\n",
    "out.close()"
   ]
  },
  {
   "cell_type": "code",
   "execution_count": 74,
   "metadata": {},
   "outputs": [],
   "source": [
    "# Create a function to get the image\n",
    "# Input is the lower left corner and the size of the image\n",
    "def get_image(lower_left_x, lower_left_y, size):\n",
    "    img = wms.getmap(layers=[layer],\n",
    "                     styles=['default'],\n",
    "                     srs='EPSG:3857',\n",
    "                     bbox=(lower_left_x, lower_left_y, lower_left_x + size/5, lower_left_y + size/5),\n",
    "                     size=(size, size),\n",
    "                     format='image/jpeg',\n",
    "                     transparent=True\n",
    "                     )\n",
    "\n",
    "    out = open('OF.jpg', 'wb')\n",
    "    out.write(img.read())\n",
    "    out.close()"
   ]
  },
  {
   "cell_type": "code",
   "execution_count": 75,
   "metadata": {},
   "outputs": [],
   "source": [
    "get_image(1241841, 5879122, 500)"
   ]
  },
  {
   "cell_type": "code",
   "execution_count": null,
   "metadata": {},
   "outputs": [],
   "source": []
  }
 ],
 "metadata": {
  "kernelspec": {
   "display_name": "base",
   "language": "python",
   "name": "python3"
  },
  "language_info": {
   "codemirror_mode": {
    "name": "ipython",
    "version": 3
   },
   "file_extension": ".py",
   "mimetype": "text/x-python",
   "name": "python",
   "nbconvert_exporter": "python",
   "pygments_lexer": "ipython3",
   "version": "3.11.7"
  }
 },
 "nbformat": 4,
 "nbformat_minor": 2
}
